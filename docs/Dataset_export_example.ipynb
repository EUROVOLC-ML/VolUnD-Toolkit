{
 "cells": [
  {
   "cell_type": "code",
   "execution_count": null,
   "metadata": {},
   "outputs": [],
   "source": [
    "import torch\n",
    "import random\n",
    "from datetime import datetime, timedelta, timezone"
   ]
  },
  {
   "cell_type": "code",
   "execution_count": null,
   "metadata": {},
   "outputs": [],
   "source": [
    "# Configuration\n",
    "sampling_frequency = 5      # Hz\n",
    "desired_time_length = 600   # seconds = 10 minutes * 60\n",
    "channels_name = [\"0:Zero\", \"1:One\", \"2:Two\",\"3:Three\", \"4:Four\"]\n",
    "\n",
    "stations = 5                # number of stations\n",
    "n_signals = 1               # number of signals in one file\n",
    "chunk_length = desired_time_length*sampling_frequency         # 3000, 600seconds*5Hz\n",
    "\n",
    "normal_activity_label = 0\n",
    "strombolian_activity_label = 1\n",
    "paroxismal_activity_label = 2"
   ]
  },
  {
   "cell_type": "code",
   "execution_count": null,
   "metadata": {},
   "outputs": [],
   "source": [
    "# Example of random input tensor with shape [stations, n_signals, chunk_length]\n",
    "data_tensor = torch.rand(stations, n_signals, chunk_length)\n",
    "\n",
    "# Example of random labels list\n",
    "labels = random.choices([normal_activity_label, strombolian_activity_label, paroxismal_activity_label], k=n_signals)\n",
    "\n",
    "# Example of random timestamp list\n",
    "current_timestamp = round(datetime.now(tz=timezone.utc).timestamp())    # without milliseconds\n",
    "past_timestamp = round((datetime.now(tz=timezone.utc)+timedelta(seconds=-desired_time_length*n_signals)).timestamp())\n",
    "timestamp_list = list(range(past_timestamp, current_timestamp, desired_time_length))\n",
    "\n",
    "# Example of time desc list, temporal interval represented\n",
    "time_desc = \"Start: %Y-%m-%d %H:%M:%S %Z Stop: %Y-%m-%d %H:%M:%S\"\n",
    "\n",
    "# Store in dictionary\n",
    "data_dict = dict()\n",
    "data_dict['CHANNEL_NAMES'] = channels_name\n",
    "data_dict['TIME_DESC'] = time_desc\n",
    "data_dict['DATA'] = data_tensor\n",
    "data_dict['LABEL'] = labels\n",
    "data_dict['TIMESTAMP'] = timestamp_list\n",
    "\n",
    "# Save to file\n",
    "torch.save(data_dict, \"dataset/filename.pt\")"
   ]
  }
 ],
 "metadata": {
  "kernelspec": {
   "display_name": "Python 3",
   "language": "python",
   "name": "python3"
  },
  "language_info": {
   "codemirror_mode": {
    "name": "ipython",
    "version": 3
   },
   "file_extension": ".py",
   "mimetype": "text/x-python",
   "name": "python",
   "nbconvert_exporter": "python",
   "pygments_lexer": "ipython3",
   "version": "3.8.10"
  }
 },
 "nbformat": 4,
 "nbformat_minor": 4
}