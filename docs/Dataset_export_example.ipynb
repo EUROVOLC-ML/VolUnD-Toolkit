{
 "cells": [
  {
   "cell_type": "code",
   "execution_count": 1,
   "metadata": {},
   "outputs": [],
   "source": [
    "import torch\n",
    "\n",
    "import scipy.io as sio\n",
    "\n",
    "import os\n",
    "\n",
    "from tqdm import tqdm\n",
    "\n",
    "from datetime import datetime"
   ]
  },
  {
   "cell_type": "code",
   "execution_count": null,
   "metadata": {},
   "outputs": [],
   "source": [
    "tag = \"1_5DIC2015\"\n",
    "full_dir = r\"D:/dataset_original/\"\n",
    "files2 = sorted(os.listdir(full_dir))\n",
    "data_tensor=torch.Tensor(1,len(files2),30000)\n",
    "labels = []\n",
    "\n",
    "for i in tqdm(range(len(files2))):\n",
    "    tmp = sio.loadmat(full_dir + files2[i])\n",
    "    \n",
    "    data_tensor[0,i,:]=torch.Tensor(tmp['fragment']['data'])\n",
    "    \n",
    "    labels.append(tmp['fragment']['current_label'])\n",
    "    \n",
    "timestamp_list = list(range(int(datetime(2015, 12, 1, 0, 0, 0).timestamp()),int(datetime(2015, 12, 5, 23, 59, 59).timestamp()),600))\n",
    "print(\"Len time = \" + str(len(timestamp_list)))\n",
    "\n",
    "data_dict=dict()\n",
    "data_dict['CHANNEL_NAMES']=[\"CH2\"]\n",
    "data_dict['TIME_DESC']=tag\n",
    "data_dict['DATA']=data_tensor\n",
    "data_dict['LABEL']=labels\n",
    "data_dict['TIMESTAMP']=timestamp_list\n",
    "\n",
    "torch.save(data_dict,full_dir + \"dataset-\" + tag + \".pt\")\n",
    "\n",
    "print(\"Finish\")"
   ]
  },
  {
   "cell_type": "code",
   "execution_count": null,
   "metadata": {},
   "outputs": [],
   "source": []
  }
 ],
 "metadata": {
  "kernelspec": {
   "display_name": "Python 3",
   "language": "python",
   "name": "python3"
  },
  "language_info": {
   "codemirror_mode": {
    "name": "ipython",
    "version": 3
   },
   "file_extension": ".py",
   "mimetype": "text/x-python",
   "name": "python",
   "nbconvert_exporter": "python",
   "pygments_lexer": "ipython3",
   "version": "3.8.5"
  }
 },
 "nbformat": 4,
 "nbformat_minor": 4
}